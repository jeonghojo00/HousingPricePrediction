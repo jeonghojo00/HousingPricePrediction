{
  "nbformat": 4,
  "nbformat_minor": 0,
  "metadata": {
    "kernelspec": {
      "display_name": "Python 3",
      "language": "python",
      "name": "python3"
    },
    "language_info": {
      "codemirror_mode": {
        "name": "ipython",
        "version": 3
      },
      "file_extension": ".py",
      "mimetype": "text/x-python",
      "name": "python",
      "nbconvert_exporter": "python",
      "pygments_lexer": "ipython3",
      "version": "3.8.5"
    },
    "colab": {
      "name": "HousingPricePrediction_AccuracyCheck",
      "provenance": [],
      "collapsed_sections": [],
      "toc_visible": true,
      "machine_shape": "hm",
      "include_colab_link": true
    },
    "accelerator": "GPU"
  },
  "cells": [
    {
      "cell_type": "markdown",
      "metadata": {
        "id": "view-in-github",
        "colab_type": "text"
      },
      "source": [
        "<a href=\"https://colab.research.google.com/github/jeonghojo00/HousingPricePrediction/blob/main/HousingPricePrediction_AccuracyCheck.ipynb\" target=\"_parent\"><img src=\"https://colab.research.google.com/assets/colab-badge.svg\" alt=\"Open In Colab\"/></a>"
      ]
    },
    {
      "cell_type": "code",
      "metadata": {
        "id": "1mwzB4wtyKCE"
      },
      "source": [
        "import pandas as pd\n",
        "from sklearn.metrics import mean_absolute_error as mae\n",
        "from sklearn.metrics import mean_squared_error as mse\n",
        "import math\n",
        "import json\n",
        "\n",
        "from prophet import Prophet\n",
        "from prophet.plot import plot_plotly, plot_components_plotly\n",
        "from prophet.serialize import model_to_json, model_from_json"
      ],
      "execution_count": 47,
      "outputs": []
    },
    {
      "cell_type": "markdown",
      "metadata": {
        "id": "Z7_eKIQjyKCL"
      },
      "source": [
        "## Step 0. Connect to Google Drive"
      ]
    },
    {
      "cell_type": "code",
      "metadata": {
        "colab": {
          "base_uri": "https://localhost:8080/",
          "height": 0
        },
        "id": "bacZqYUe17M6",
        "outputId": "9b354ac2-4b98-4eb4-e250-7063c8641e9d"
      },
      "source": [
        "from google.colab import drive\n",
        "drive.mount('/content/drive')"
      ],
      "execution_count": 4,
      "outputs": [
        {
          "output_type": "stream",
          "text": [
            "Drive already mounted at /content/drive; to attempt to forcibly remount, call drive.mount(\"/content/drive\", force_remount=True).\n"
          ],
          "name": "stdout"
        }
      ]
    },
    {
      "cell_type": "markdown",
      "metadata": {
        "id": "IH6WwVHBdIJc"
      },
      "source": [
        "## Step 1. Define Functions"
      ]
    },
    {
      "cell_type": "markdown",
      "metadata": {
        "id": "3Ud3bo0cdawl"
      },
      "source": [
        "### Load Data"
      ]
    },
    {
      "cell_type": "code",
      "metadata": {
        "id": "JpiyInj3ZYKB"
      },
      "source": [
        "def load_data():\n",
        "    colab_notebook = \"/content/drive/My Drive/Colab Notebooks/\"\n",
        "    zillow_dataset = \"Zillow/AllHomesZipPrices.csv\"\n",
        "    df = pd.read_csv(colab_notebook+zillow_dataset)\n",
        "    return df"
      ],
      "execution_count": 5,
      "outputs": []
    },
    {
      "cell_type": "markdown",
      "metadata": {
        "id": "QSHCgRf_dePc"
      },
      "source": [
        "### Get City Dataframe"
      ]
    },
    {
      "cell_type": "code",
      "metadata": {
        "id": "YiSqQhn_2z1Q"
      },
      "source": [
        "def get_city_df(df, state, city):\n",
        "    state_df = df[df['state'] == state]\n",
        "    city_df = state_df[state_df['city'] == city]\n",
        "\n",
        "    return city_df"
      ],
      "execution_count": 6,
      "outputs": []
    },
    {
      "cell_type": "markdown",
      "metadata": {
        "id": "olg_MKJfdhdk"
      },
      "source": [
        "### Get House Price Prediction"
      ]
    },
    {
      "cell_type": "code",
      "metadata": {
        "id": "0ndb1W_OYocd"
      },
      "source": [
        "def get_HousingPricePrediction(city_df, zip, period = 24):\n",
        "    zip_df = city_df[city_df['zip']==zip].loc[:,('ds', 'y')]\n",
        "    md = Prophet(interval_width=0.95, weekly_seasonality=True, daily_seasonality=True)\n",
        "    model = md.fit(zip_df)\n",
        "    future = model.make_future_dataframe(periods=period, freq='M') #freq changes frequency of dates. Default Daily\n",
        "    pred_y = model.predict(future)\n",
        "\n",
        "    return md, pred_y"
      ],
      "execution_count": 51,
      "outputs": []
    },
    {
      "cell_type": "markdown",
      "metadata": {
        "id": "-c0-DGgh0CFT"
      },
      "source": [
        "### Save Model"
      ]
    },
    {
      "cell_type": "code",
      "metadata": {
        "id": "aAjI6PNw0BSs"
      },
      "source": [
        "def save_prophet_model(model, filename):\n",
        "  colab_notebook = \"/content/drive/My Drive/Colab Notebooks/models/\"\n",
        "  with open(colab_notebook + filename, 'w') as fout:\n",
        "    json.dump(model_to_json(model), fout)"
      ],
      "execution_count": 8,
      "outputs": []
    },
    {
      "cell_type": "markdown",
      "metadata": {
        "id": "9AxCC8eZB5AN"
      },
      "source": [
        "### Load Model"
      ]
    },
    {
      "cell_type": "code",
      "metadata": {
        "id": "BoVp8fuSB74n"
      },
      "source": [
        "def load_prophet_model(filename):\n",
        "  colab_notebook = \"/content/drive/My Drive/Colab Notebooks/models/\"\n",
        "  with open(colab_notebook+filename, 'r') as fin:\n",
        "    model = model_from_json(json.load(fin)) \n",
        "    return model"
      ],
      "execution_count": 9,
      "outputs": []
    },
    {
      "cell_type": "markdown",
      "metadata": {
        "id": "CaIWSwSJX6hA"
      },
      "source": [
        "## Step 2. Get MAE and RMSE"
      ]
    },
    {
      "cell_type": "code",
      "metadata": {
        "id": "LV285P1oRcmG"
      },
      "source": [
        "df = load_data()\n",
        "err_dict = dict()"
      ],
      "execution_count": 52,
      "outputs": []
    },
    {
      "cell_type": "markdown",
      "metadata": {
        "id": "4lEvPR2QP6LX"
      },
      "source": [
        "### Dallas, Texas"
      ]
    },
    {
      "cell_type": "code",
      "metadata": {
        "id": "fNzMwVN9VLhF"
      },
      "source": [
        "##### Get Dataset for a city to run simulations\n",
        "state = 'TX'\n",
        "city = 'Dallas'\n",
        "city_df = get_city_df(df, state, city)\n",
        "city_df.loc[:,'ds'] = pd.to_datetime(city_df.loc[:,'ds'], format='%Y-%m-%d')\n",
        "city_df['ds'] = city_df['ds'].dt.strftime('%Y-%m')\n",
        "train_df = city_df[city_df['ds']<'2016-01']\n",
        "test_df = city_df[city_df['ds']>'2015-12']\n",
        "\n",
        "#### Prepare dictionary for errors\n",
        "err_dict[city+state] = dict()\n",
        "err_dict[city+state]['mae'] = list()\n",
        "err_dict[city+state]['rmse'] = list()\n",
        "\n",
        "#### Prepare zip code dictionary\n",
        "zipCodes = city_df['zip'].unique()\n",
        "period = len(test_df[test_df['zip']==zipCodes[0]])+1"
      ],
      "execution_count": 53,
      "outputs": []
    },
    {
      "cell_type": "code",
      "metadata": {
        "id": "LCxjoJ_Igqsx"
      },
      "source": [
        "for zip in zipCodes:\n",
        "    zip_df = train_df[train_df['zip']==zip]\n",
        "    if (zip_df.isnull().values.ravel().sum()) > (len(zip_df)*0.8):\n",
        "        continue\n",
        "    md, pred_y = get_HousingPricePrediction(train_df , zip, period = period)\n",
        "    pred_y['ds'] = pred_y['ds'].dt.strftime('%Y-%m')\n",
        "    pred_y = pred_y[['ds', 'yhat']]\n",
        "    real_y = city_df[city_df['zip']==int(zip)][['ds','y']]\n",
        "    merged_y = real_y.merge(pred_y, on=\"ds\", how = 'outer')\n",
        "    \n",
        "    for_accuracy = merged_y[merged_y['ds']>='2016-01']\n",
        "    zip_mae = mae(for_accuracy.y, for_accuracy.yhat)\n",
        "    zip_rmse = math.sqrt(mse(for_accuracy.y, for_accuracy.yhat))\n",
        "\n",
        "    err_dict[city+state]['mae'].append(zip_mae)\n",
        "    err_dict[city+state]['rmse'].append(zip_rmse)"
      ],
      "execution_count": 54,
      "outputs": []
    },
    {
      "cell_type": "markdown",
      "metadata": {
        "id": "YsrzI4bsP_k2"
      },
      "source": [
        "### Houston, Texas"
      ]
    },
    {
      "cell_type": "code",
      "metadata": {
        "id": "py2dMBiRaDoC"
      },
      "source": [
        "##### Get Dataset for a city to run simulations\n",
        "state = 'TX'\n",
        "city = 'Houston'\n",
        "city_df = get_city_df(df, state, city)\n",
        "city_df.loc[:,'ds'] = pd.to_datetime(city_df.loc[:,'ds'], format='%Y-%m-%d')\n",
        "city_df['ds'] = city_df['ds'].dt.strftime('%Y-%m')\n",
        "train_df = city_df[city_df['ds']<'2016-01']\n",
        "test_df = city_df[city_df['ds']>'2015-12']\n",
        "\n",
        "#### Prepare dictionary for errors\n",
        "err_dict[city+state] = dict()\n",
        "err_dict[city+state]['mae'] = list()\n",
        "err_dict[city+state]['rmse'] = list()\n",
        "\n",
        "#### Prepare zip code dictionary\n",
        "zipCodes = city_df['zip'].unique()\n",
        "period = len(test_df[test_df['zip']==zipCodes[0]])+1"
      ],
      "execution_count": 55,
      "outputs": []
    },
    {
      "cell_type": "code",
      "metadata": {
        "id": "EIr87b4UbPI0"
      },
      "source": [
        "for zip in zipCodes:\n",
        "    zip_df = train_df[train_df['zip']==zip]\n",
        "    if (zip_df.isnull().values.ravel().sum()) > (len(zip_df)*0.8):\n",
        "        continue\n",
        "    md, pred_y = get_HousingPricePrediction(train_df , zip, period = period)\n",
        "    pred_y['ds'] = pred_y['ds'].dt.strftime('%Y-%m')\n",
        "    pred_y = pred_y[['ds', 'yhat']]\n",
        "    real_y = city_df[city_df['zip']==int(zip)][['ds','y']]\n",
        "    merged_y = real_y.merge(pred_y, on=\"ds\", how = 'outer')\n",
        "    \n",
        "    for_accuracy = merged_y[merged_y['ds']>='2016-01']\n",
        "    zip_mae = mae(for_accuracy.y, for_accuracy.yhat)\n",
        "    zip_rmse = math.sqrt(mse(for_accuracy.y, for_accuracy.yhat))\n",
        "\n",
        "    err_dict[city+state]['mae'].append(zip_mae)\n",
        "    err_dict[city+state]['rmse'].append(zip_rmse)"
      ],
      "execution_count": 56,
      "outputs": []
    },
    {
      "cell_type": "markdown",
      "metadata": {
        "id": "-XVSyMajQwi9"
      },
      "source": [
        "### Boston, MA"
      ]
    },
    {
      "cell_type": "code",
      "metadata": {
        "id": "kvyaHYe8cGwc"
      },
      "source": [
        "##### Get Dataset for a city to run simulations\n",
        "state = 'MA'\n",
        "city = 'Boston'\n",
        "city_df = get_city_df(df, state, city)\n",
        "city_df.loc[:,'ds'] = pd.to_datetime(city_df.loc[:,'ds'], format='%Y-%m-%d')\n",
        "city_df['ds'] = city_df['ds'].dt.strftime('%Y-%m')\n",
        "train_df = city_df[city_df['ds']<'2016-01']\n",
        "test_df = city_df[city_df['ds']>'2015-12']\n",
        "\n",
        "#### Prepare dictionary for errors\n",
        "err_dict[city+state] = dict()\n",
        "err_dict[city+state]['mae'] = list()\n",
        "err_dict[city+state]['rmse'] = list()\n",
        "\n",
        "#### Prepare zip code dictionary\n",
        "zipCodes = city_df['zip'].unique()\n",
        "period = len(test_df[test_df['zip']==zipCodes[0]])+1"
      ],
      "execution_count": 57,
      "outputs": []
    },
    {
      "cell_type": "code",
      "metadata": {
        "id": "aUSsIFEIcaWa"
      },
      "source": [
        "for zip in zipCodes:\n",
        "    zip_df = train_df[train_df['zip']==zip]\n",
        "    if (zip_df.isnull().values.ravel().sum()) > (len(zip_df)*0.8):\n",
        "        continue\n",
        "    md, pred_y = get_HousingPricePrediction(train_df , zip, period = period)\n",
        "    pred_y['ds'] = pred_y['ds'].dt.strftime('%Y-%m')\n",
        "    pred_y = pred_y[['ds', 'yhat']]\n",
        "    real_y = city_df[city_df['zip']==int(zip)][['ds','y']]\n",
        "    merged_y = real_y.merge(pred_y, on=\"ds\", how = 'outer')\n",
        "    \n",
        "    for_accuracy = merged_y[merged_y['ds']>='2016-01']\n",
        "    zip_mae = mae(for_accuracy.y, for_accuracy.yhat)\n",
        "    zip_rmse = math.sqrt(mse(for_accuracy.y, for_accuracy.yhat))\n",
        "\n",
        "    err_dict[city+state]['mae'].append(zip_mae)\n",
        "    err_dict[city+state]['rmse'].append(zip_rmse)"
      ],
      "execution_count": 58,
      "outputs": []
    },
    {
      "cell_type": "markdown",
      "metadata": {
        "id": "W2RMvClmSiTi"
      },
      "source": [
        "## Step 3. Measure Accuracies in MAE and RMSE"
      ]
    },
    {
      "cell_type": "code",
      "metadata": {
        "id": "WpW2nevPew6U"
      },
      "source": [
        "acc_dict = dict()\n",
        "\n",
        "for key in err_dict:\n",
        "    acc_dict[key] = dict()\n",
        "    acc_dict[key]['mae'] = round(sum(err_dict[key]['mae']) / len(err_dict[key]['mae']),2)\n",
        "    acc_dict[key]['rmse'] = round(sum(err_dict[key]['rmse']) / len(err_dict[key]['rmse']),2)"
      ],
      "execution_count": 64,
      "outputs": []
    },
    {
      "cell_type": "code",
      "metadata": {
        "colab": {
          "base_uri": "https://localhost:8080/"
        },
        "id": "AmszOZoggRFe",
        "outputId": "d1bcc87a-81cc-4808-d7d5-b60fba040c46"
      },
      "source": [
        "acc_dict"
      ],
      "execution_count": 65,
      "outputs": [
        {
          "output_type": "execute_result",
          "data": {
            "text/plain": [
              "{'BostonMA': {'mae': 53079.07, 'rmse': 69144.2},\n",
              " 'DallasTX': {'mae': 35216.37, 'rmse': 39723.4},\n",
              " 'HoustonTX': {'mae': 42608.17, 'rmse': 47569.53}}"
            ]
          },
          "metadata": {
            "tags": []
          },
          "execution_count": 65
        }
      ]
    }
  ]
}