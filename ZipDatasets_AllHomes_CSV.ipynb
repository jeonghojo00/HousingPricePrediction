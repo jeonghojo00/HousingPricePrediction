{
  "nbformat": 4,
  "nbformat_minor": 0,
  "metadata": {
    "kernelspec": {
      "display_name": "Python 3",
      "language": "python",
      "name": "python3"
    },
    "language_info": {
      "codemirror_mode": {
        "name": "ipython",
        "version": 3
      },
      "file_extension": ".py",
      "mimetype": "text/x-python",
      "name": "python",
      "nbconvert_exporter": "python",
      "pygments_lexer": "ipython3",
      "version": "3.8.5"
    },
    "colab": {
      "name": "ZipDatasets_AllHomes_CSV.ipynb",
      "provenance": [],
      "collapsed_sections": [],
      "machine_shape": "hm",
      "include_colab_link": true
    }
  },
  "cells": [
    {
      "cell_type": "markdown",
      "metadata": {
        "id": "view-in-github",
        "colab_type": "text"
      },
      "source": [
        "<a href=\"https://colab.research.google.com/github/jeonghojo00/HousingPricePrediction/blob/main/ZipDatasets_AllHomes_CSV.ipynb\" target=\"_parent\"><img src=\"https://colab.research.google.com/assets/colab-badge.svg\" alt=\"Open In Colab\"/></a>"
      ]
    },
    {
      "cell_type": "code",
      "metadata": {
        "id": "X1-Qfty8Nny7"
      },
      "source": [
        "import pandas as pd\n",
        "import numpy as np\n",
        "import matplotlib.pyplot as plt"
      ],
      "execution_count": null,
      "outputs": []
    },
    {
      "cell_type": "markdown",
      "metadata": {
        "id": "kixeocQUNny8"
      },
      "source": [
        "# Prepare Datasets"
      ]
    },
    {
      "cell_type": "markdown",
      "metadata": {
        "id": "qFkSR3_HNny9"
      },
      "source": [
        "## Add File Paths"
      ]
    },
    {
      "cell_type": "code",
      "metadata": {
        "colab": {
          "base_uri": "https://localhost:8080/"
        },
        "id": "WMqHibY-Px6E",
        "outputId": "606d7ba8-586b-4fde-8e0e-f65d2bb23e5d"
      },
      "source": [
        "from google.colab import drive\n",
        "drive.mount('/content/drive')"
      ],
      "execution_count": null,
      "outputs": [
        {
          "output_type": "stream",
          "text": [
            "Mounted at /content/drive\n"
          ],
          "name": "stdout"
        }
      ]
    },
    {
      "cell_type": "code",
      "metadata": {
        "id": "MdE1u1NaNny9"
      },
      "source": [
        "main_path = \"/content/drive/My Drive/Colab Notebooks/Zillow\"\n",
        "ZipHv = main_path + '/Zillow Home Values/Zillow All Homes (Seasonally Adjusted)/Zillow_HomeValues_Zip.csv'"
      ],
      "execution_count": null,
      "outputs": []
    },
    {
      "cell_type": "markdown",
      "metadata": {
        "id": "9cdqZBGmNny9"
      },
      "source": [
        "## Load dataset file"
      ]
    },
    {
      "cell_type": "code",
      "metadata": {
        "id": "RFubFtUnNny-"
      },
      "source": [
        "df = pd.read_csv(ZipHv)\n",
        "ds = pd.DataFrame(columns=['ds', 'zip', 'city', 'state', 'y'])"
      ],
      "execution_count": null,
      "outputs": []
    },
    {
      "cell_type": "code",
      "metadata": {
        "id": "kfnFkXBBjQfi"
      },
      "source": [
        "df = df[(df['State']=='CA') | (df['State']=='TX') | (df['State']=='IL') | (df['State']=='AZ') | (df['State']=='MA')]"
      ],
      "execution_count": null,
      "outputs": []
    },
    {
      "cell_type": "markdown",
      "metadata": {
        "id": "0MH0TXfUNny-"
      },
      "source": [
        "## Make a Dataframe that consists of all value"
      ]
    },
    {
      "cell_type": "code",
      "metadata": {
        "id": "2c1fbt20Nny-"
      },
      "source": [
        "# Find the first index where dates start\n",
        "def getFirstRowDate(df):\n",
        "    df_t = df.T\n",
        "    index_list = df_t.index.to_list()\n",
        "    first_index = 0\n",
        "    for i in range(len(index_list)):\n",
        "        try:\n",
        "            int(index_list[i][0:4])\n",
        "            first_index = i\n",
        "            break\n",
        "        except:\n",
        "            pass\n",
        "    return first_index"
      ],
      "execution_count": null,
      "outputs": []
    },
    {
      "cell_type": "code",
      "metadata": {
        "id": "su7ZUaXtNny-"
      },
      "source": [
        "first_index = getFirstRowDate(df)\n",
        "numData = len(df)\n",
        "\n",
        "for i in range(numData):\n",
        "    new_df = pd.DataFrame(columns=['ds', 'zip', 'city', 'state', 'y'])\n",
        "    new_df['ds'] = df.iloc[i].T[first_index:].index\n",
        "    new_df['y'] = df.iloc[i].T[first_index:].values\n",
        "    new_df['zip'] = df.iloc[i]['RegionName']\n",
        "    new_df['city'] = df.iloc[i]['City']\n",
        "    new_df['state'] = df.iloc[i]['State']\n",
        "    \n",
        "    # Append to the overall datasets\n",
        "    ds = ds.append(new_df)"
      ],
      "execution_count": null,
      "outputs": []
    },
    {
      "cell_type": "code",
      "metadata": {
        "id": "H9w1TvwWNny_"
      },
      "source": [
        "ds.to_csv(main_path + '/AllHomesZipPrices.csv', index=False, header=True)"
      ],
      "execution_count": null,
      "outputs": []
    }
  ]
}